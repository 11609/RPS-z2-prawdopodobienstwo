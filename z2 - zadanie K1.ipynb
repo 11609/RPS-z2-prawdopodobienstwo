{
 "cells": [
  {
   "cell_type": "markdown",
   "metadata": {},
   "source": [
    "Równomiernie i niezależnie losujemy liczby z przedziału [1, 100]:"
   ]
  },
  {
   "cell_type": "code",
   "execution_count": 16,
   "metadata": {},
   "outputs": [],
   "source": [
    "import random\n",
    "a = random.uniform(1, 100)\n",
    "a\n",
    "\n",
    "def losuj():\n",
    "    return random.uniform(1,100)"
   ]
  },
  {
   "cell_type": "markdown",
   "metadata": {},
   "source": [
    "Sprawdźmy powyższe losowanie:\n",
    "\n",
    "(około 50.5 będzie okej)"
   ]
  },
  {
   "cell_type": "code",
   "execution_count": 17,
   "metadata": {},
   "outputs": [
    {
     "data": {
      "text/plain": [
       "50.45534812059211"
      ]
     },
     "execution_count": 17,
     "metadata": {},
     "output_type": "execute_result"
    }
   ],
   "source": [
    "sum = 0.0\n",
    "for _ in range(100000):\n",
    "    sum += losuj()\n",
    "\n",
    "avg = sum/100000\n",
    "avg"
   ]
  },
  {
   "cell_type": "markdown",
   "metadata": {},
   "source": [
    "Model pojedynczej gry:"
   ]
  },
  {
   "cell_type": "code",
   "execution_count": 18,
   "metadata": {},
   "outputs": [],
   "source": [
    "def game():\n",
    "    S = 0.0\n",
    "    while S < 100:\n",
    "        x = losuj()\n",
    "        S += x\n",
    "    while S < 200:\n",
    "        y = losuj()\n",
    "        S += y\n",
    "#     print('x:{}, y:{}'.format(x, y))\n",
    "    if x > y:\n",
    "        return 1\n",
    "    else:\n",
    "        return 0\n",
    "    "
   ]
  },
  {
   "cell_type": "markdown",
   "metadata": {},
   "source": [
    "Symulujemy 100,000 gier:\n",
    "\n",
    "(A: gracz pierwszy wygrał)"
   ]
  },
  {
   "cell_type": "code",
   "execution_count": 19,
   "metadata": {},
   "outputs": [
    {
     "name": "stdout",
     "output_type": "stream",
     "text": [
      "Gracz A wygrał w 47255 z 100000 gier.\n",
      "Prawdopodobieństwo wygrania gry przez A: 0.473\n"
     ]
    }
   ],
   "source": [
    "A_wins = 0\n",
    "n_games = 100000\n",
    "for _ in range(n_games):\n",
    "    A_wins += game()\n",
    "\n",
    "print('Gracz A wygrał w {} z {} gier.'.format(A_wins, n_games))\n",
    "A_wins_prob = A_wins / n_games\n",
    "print('Prawdopodobieństwo wygrania gry przez A: {}'.format(round(A_wins_prob,3)))"
   ]
  }
 ],
 "metadata": {
  "kernelspec": {
   "display_name": "Python 3",
   "language": "python",
   "name": "python3"
  },
  "language_info": {
   "codemirror_mode": {
    "name": "ipython",
    "version": 3
   },
   "file_extension": ".py",
   "mimetype": "text/x-python",
   "name": "python",
   "nbconvert_exporter": "python",
   "pygments_lexer": "ipython3",
   "version": "3.7.4"
  }
 },
 "nbformat": 4,
 "nbformat_minor": 2
}
